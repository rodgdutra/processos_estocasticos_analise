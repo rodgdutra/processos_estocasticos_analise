{
 "cells": [
  {
   "cell_type": "markdown",
   "metadata": {},
   "source": [
    "# Relatório PDS"
   ]
  },
  {
   "cell_type": "code",
   "execution_count": 1,
   "metadata": {},
   "outputs": [],
   "source": [
    "import numpy as np\n",
    "import matplotlib.pyplot as plt\n",
    "import matplotlib\n",
    "data_path = 'dois_processos_do_alunx_2808.npz'"
   ]
  },
  {
   "cell_type": "code",
   "execution_count": 2,
   "metadata": {},
   "outputs": [],
   "source": [
    "max_width = 6\n",
    "params = {\n",
    "    \n",
    "    \"legend.fontsize\": 8,\n",
    "    \"legend.edgecolor\": 'black',\n",
    "    \"grid.color\": \"k\",\n",
    "    \"grid.linestyle\": \":\",\n",
    "    \"grid.linewidth\": 0.5,\n",
    "}\n",
    "matplotlib.rcParams.update(params)\n",
    "aspect_ratio = 1.2\n",
    "figsize = (max_width, max_width / aspect_ratio)"
   ]
  },
  {
   "cell_type": "markdown",
   "metadata": {},
   "source": [
    "## Primeiramente vamos extrair os dados armazenados"
   ]
  },
  {
   "cell_type": "code",
   "execution_count": 3,
   "metadata": {},
   "outputs": [],
   "source": [
    "x = np.load(data_path)\n",
    "X1 = x['X1']\n",
    "X2 = x['X2']"
   ]
  },
  {
   "cell_type": "markdown",
   "metadata": {},
   "source": [
    "Cada processo estocastico  é composto por 400 realizações, com cada uma dessas tendo 190 amostras."
   ]
  },
  {
   "cell_type": "code",
   "execution_count": 4,
   "metadata": {},
   "outputs": [
    {
     "data": {
      "text/plain": [
       "(400, 190)"
      ]
     },
     "execution_count": 4,
     "metadata": {},
     "output_type": "execute_result"
    }
   ],
   "source": [
    "X1.shape"
   ]
  },
  {
   "cell_type": "markdown",
   "metadata": {},
   "source": [
    "# Questão 1 e 2"
   ]
  },
  {
   "cell_type": "markdown",
   "metadata": {},
   "source": [
    "## Para Calcular a média de um processo estocastico no tempo temos:\n",
    "$E(X[n=1]) = \\frac{1}{N} \\sum^{N}_{i=0}x_i[n=1] $, onde $X$ é o processo estocastico, $x_i[n=1]$ é a variável aleatoria que denota a realização $i$ no instante $n=1$, e por ultimo $N$ é o numero de realizações desse processo estocástico. "
   ]
  },
  {
   "cell_type": "code",
   "execution_count": 5,
   "metadata": {},
   "outputs": [],
   "source": [
    "def curva_media(x):\n",
    "    \"\"\" Curva media \n",
    "    \n",
    "    Calcula a curva que representa a média do processo estocastico x e retorna\n",
    "    \n",
    "    Args:\n",
    "        x : Processo estocastico.\n",
    "    \n",
    "    Returns:\n",
    "        mean: Curva da média\n",
    "    \"\"\"\n",
    "    \n",
    "    mean = np.zeros(x.shape[1])\n",
    "    for i in range(x.shape[1]):\n",
    "        mean[i] = np.mean(x[:, i])\n",
    "        \n",
    "    return mean"
   ]
  },
  {
   "cell_type": "code",
   "execution_count": 6,
   "metadata": {},
   "outputs": [],
   "source": [
    "E_x1 = curva_media(X1)\n",
    "E_x2 = curva_media(X2)"
   ]
  },
  {
   "cell_type": "markdown",
   "metadata": {},
   "source": [
    "## Assim temos:"
   ]
  },
  {
   "cell_type": "code",
   "execution_count": 24,
   "metadata": {},
   "outputs": [],
   "source": [
    "def analisis_1_plot(X, E_x, name, ts=0.25, save=True):\n",
    "    time_array = np.arange(190)*ts\n",
    "    plt.figure(1, figsize=figsize)\n",
    "    ax1 = plt.subplot(211)\n",
    "    ax1.plot(time_array, X[0], linestyle=\"--\",marker=\".\", label='x_0[n]', markersize=4)\n",
    "    ax1.plot(time_array, X[1], linestyle=\"--\",marker=\".\", label='x_1[n]', markersize=4)\n",
    "    ax1.plot(time_array, X[2], linestyle=\"--\",marker=\".\", label='x_2[n]', markersize=4)\n",
    "    ax1.legend(loc='upper center',\n",
    "                  bbox_to_anchor=(0.7, 0.15),\n",
    "                  fancybox=False,\n",
    "                  ncol=3)\n",
    "    ax1.set_ylabel('Valor')\n",
    "    ax2 = plt.subplot(212)\n",
    "    ax2.plot(time_array, E_x, linestyle=\"--\",marker=\"o\", label='Média m(t)')\n",
    "    ax2.legend()\n",
    "    plt.xlabel(\"Tempo(s)\")\n",
    "    plt.ylabel(\"Média\")\n",
    "    if save:\n",
    "        fig_name = f\"1-{name}.eps\"\n",
    "        plt.savefig(fig_name, format=\"eps\", dpi=300, bbox_inches=\"tight\")\n",
    "    else:\n",
    "        plt.show()\n",
    "    plt.close()\n"
   ]
  },
  {
   "cell_type": "code",
   "execution_count": 25,
   "metadata": {},
   "outputs": [
    {
     "name": "stderr",
     "output_type": "stream",
     "text": [
      "The PostScript backend does not support transparency; partially transparent artists will be rendered opaque.\n",
      "The PostScript backend does not support transparency; partially transparent artists will be rendered opaque.\n",
      "The PostScript backend does not support transparency; partially transparent artists will be rendered opaque.\n",
      "The PostScript backend does not support transparency; partially transparent artists will be rendered opaque.\n"
     ]
    }
   ],
   "source": [
    "analisis_1_plot(X1, E_x1,'X1')"
   ]
  },
  {
   "cell_type": "code",
   "execution_count": 26,
   "metadata": {},
   "outputs": [
    {
     "name": "stderr",
     "output_type": "stream",
     "text": [
      "The PostScript backend does not support transparency; partially transparent artists will be rendered opaque.\n",
      "The PostScript backend does not support transparency; partially transparent artists will be rendered opaque.\n",
      "The PostScript backend does not support transparency; partially transparent artists will be rendered opaque.\n",
      "The PostScript backend does not support transparency; partially transparent artists will be rendered opaque.\n"
     ]
    }
   ],
   "source": [
    "analisis_1_plot(X2, E_x2, 'X2')"
   ]
  },
  {
   "cell_type": "markdown",
   "metadata": {},
   "source": [
    "# Questão 2"
   ]
  },
  {
   "cell_type": "code",
   "execution_count": 29,
   "metadata": {},
   "outputs": [],
   "source": [
    "def fdp(instante1, instante2, X, name, save=True):\n",
    "    n_bins = 50\n",
    "    plt.figure(1, figsize=figsize)\n",
    "    ax1 = plt.subplot(211)\n",
    "    ax1.hist(X[:,instante1], bins=n_bins, density=True, label=f'f.d.p({name}_45[n])', color = 'blue', edgecolor = 'black')\n",
    "    ax1.set_ylabel(\"Probabilidade\")\n",
    "    ax1.legend()\n",
    "    ax2 = plt.subplot(212)\n",
    "    ax2.hist(X[:,instante2], bins=n_bins, density=True, label=f'f.d.p({name}_120[n])', color = 'red', edgecolor = 'black')\n",
    "    ax2.set_xlabel(\"Valor\")\n",
    "    ax2.set_ylabel(\"Probabilidade\")\n",
    "    ax2.legend()\n",
    "    if save:\n",
    "        fig_name = f\"2_{name}.eps\"\n",
    "        plt.savefig(fig_name, format=\"eps\", dpi=300, bbox_inches=\"tight\")\n",
    "    else:\n",
    "        plt.show()\n",
    "    plt.close()"
   ]
  },
  {
   "cell_type": "code",
   "execution_count": 30,
   "metadata": {},
   "outputs": [
    {
     "name": "stderr",
     "output_type": "stream",
     "text": [
      "The PostScript backend does not support transparency; partially transparent artists will be rendered opaque.\n",
      "The PostScript backend does not support transparency; partially transparent artists will be rendered opaque.\n",
      "The PostScript backend does not support transparency; partially transparent artists will be rendered opaque.\n",
      "The PostScript backend does not support transparency; partially transparent artists will be rendered opaque.\n",
      "The PostScript backend does not support transparency; partially transparent artists will be rendered opaque.\n",
      "The PostScript backend does not support transparency; partially transparent artists will be rendered opaque.\n",
      "The PostScript backend does not support transparency; partially transparent artists will be rendered opaque.\n",
      "The PostScript backend does not support transparency; partially transparent artists will be rendered opaque.\n"
     ]
    }
   ],
   "source": [
    "fdp(45, 120, X1,'X1')\n",
    "fdp(45, 120, X2,'X2')"
   ]
  },
  {
   "cell_type": "markdown",
   "metadata": {},
   "source": [
    "#  Questão 4"
   ]
  },
  {
   "cell_type": "code",
   "execution_count": 12,
   "metadata": {},
   "outputs": [],
   "source": [
    "def estimate_auto_correlation(X, instant1, instant2):\n",
    "    return np.mean(X[:,instant1]*X[:,instant2])"
   ]
  },
  {
   "cell_type": "code",
   "execution_count": 13,
   "metadata": {},
   "outputs": [
    {
     "name": "stdout",
     "output_type": "stream",
     "text": [
      "rx1: 0.07238173826116848\n",
      "rx2:-0.025789722072666627\n",
      "rx3: -0.2558903986121387\n"
     ]
    }
   ],
   "source": [
    "rx1 = estimate_auto_correlation(X1, 45, 120)\n",
    "rx2 = estimate_auto_correlation(X1, 55, 130)\n",
    "rx3 = estimate_auto_correlation(X1, 65, 140)\n",
    "print(f\"rx1: {rx1}\\nrx2:{rx2}\\nrx3: {rx3}\")"
   ]
  },
  {
   "cell_type": "code",
   "execution_count": 14,
   "metadata": {},
   "outputs": [],
   "source": [
    "def autocorrelation_in_n(X, k):\n",
    "    rx_n = np.zeros(X.shape[1]-k)\n",
    "    for i in range(X.shape[1]-k):\n",
    "        instant1 = i\n",
    "        instant2 = instant1 + k\n",
    "        rx_n[i] = estimate_auto_correlation(X, instant1, instant2)\n",
    "    return rx_n"
   ]
  },
  {
   "cell_type": "code",
   "execution_count": 15,
   "metadata": {},
   "outputs": [],
   "source": [
    "def autocorrelation_plot(rx, k, name, ts=0.5, save=True, n_steps=190):\n",
    "    plt.figure(1, figsize=(5,6))\n",
    "    axes = {}\n",
    "    markers = ['^', 'v', 'd']\n",
    "    colors = ['b', 'r', 'y']\n",
    "    \n",
    "    for sig, k, i in zip(rx, k, range(len(rx))):\n",
    "        time_array = (np.arange(sig.shape[0]) * ts)+ (n_steps-k)*ts\n",
    "        plot_n = int(100*len(rx)+10+i+1)\n",
    "        axes[f'{i}'] = plt.subplot(plot_n)\n",
    "        axes[f'{i}'].plot(time_array, sig, linestyle=\"--\",marker=markers[i],\n",
    "                          markersize=4,\n",
    "                          color=colors[i],\n",
    "                          label=f'cov{i+1}, k={k}')\n",
    "        axes[f'{i}'].legend()\n",
    "        axes[f'{i}'].set_xlabel('Tempo(s)')\n",
    "        axes[f'{i}'].set_ylabel('Valor')\n",
    "    if save:\n",
    "        fig_name = f\"3_autocorr_{name}.eps\"\n",
    "        plt.savefig(fig_name, format=\"eps\", dpi=300, bbox_inches=\"tight\")\n",
    "    else:\n",
    "        plt.show()\n",
    "    plt.close()\n"
   ]
  },
  {
   "cell_type": "code",
   "execution_count": 16,
   "metadata": {},
   "outputs": [
    {
     "name": "stderr",
     "output_type": "stream",
     "text": [
      "The PostScript backend does not support transparency; partially transparent artists will be rendered opaque.\n",
      "The PostScript backend does not support transparency; partially transparent artists will be rendered opaque.\n",
      "The PostScript backend does not support transparency; partially transparent artists will be rendered opaque.\n",
      "The PostScript backend does not support transparency; partially transparent artists will be rendered opaque.\n",
      "The PostScript backend does not support transparency; partially transparent artists will be rendered opaque.\n",
      "The PostScript backend does not support transparency; partially transparent artists will be rendered opaque.\n",
      "The PostScript backend does not support transparency; partially transparent artists will be rendered opaque.\n",
      "The PostScript backend does not support transparency; partially transparent artists will be rendered opaque.\n",
      "The PostScript backend does not support transparency; partially transparent artists will be rendered opaque.\n",
      "The PostScript backend does not support transparency; partially transparent artists will be rendered opaque.\n",
      "The PostScript backend does not support transparency; partially transparent artists will be rendered opaque.\n",
      "The PostScript backend does not support transparency; partially transparent artists will be rendered opaque.\n"
     ]
    }
   ],
   "source": [
    "k_i = [20,35,54]\n",
    "rx_x1 = [0,0,0]\n",
    "rx_x2 = [0,0,0]\n",
    "for k, i in zip(k_i, range(len(k_i))):\n",
    "    rx_x1[i] = autocorrelation_in_n(X1,k)\n",
    "    rx_x2[i] = autocorrelation_in_n(X2,k)\n",
    "\n",
    "autocorrelation_plot(rx_x1, k_i,'X1',ts=0.5, save=True)\n",
    "autocorrelation_plot(rx_x2, k_i,'X2',ts=0.5, save=True)"
   ]
  },
  {
   "cell_type": "markdown",
   "metadata": {},
   "source": [
    "# Questão 5"
   ]
  },
  {
   "cell_type": "code",
   "execution_count": 17,
   "metadata": {},
   "outputs": [],
   "source": [
    "def estimate_autocovariance(X, instant1, instant2):\n",
    "    return np.mean((X[:,instant1]-np.mean(X[:,instant1]))*(X[:,instant2]-np.mean(X[:,instant2])))"
   ]
  },
  {
   "cell_type": "code",
   "execution_count": 18,
   "metadata": {},
   "outputs": [
    {
     "name": "stdout",
     "output_type": "stream",
     "text": [
      "cov1: 0.06468325449284917\n",
      "cov2:-0.03207957539230847\n",
      "cov3: -0.2447286621839256\n"
     ]
    }
   ],
   "source": [
    "cov1 = estimate_autocovariance(X1, 45, 120)\n",
    "cov2 = estimate_autocovariance(X1, 55, 130)\n",
    "cov3 = estimate_autocovariance(X1, 65, 140)\n",
    "print(f\"cov1: {cov1}\\ncov2:{cov2}\\ncov3: {cov3}\")"
   ]
  },
  {
   "cell_type": "code",
   "execution_count": 19,
   "metadata": {},
   "outputs": [],
   "source": [
    "def autocovariance_in_n(X, k):\n",
    "    sigx_n = np.zeros(X.shape[1]-k)\n",
    "    for i in range(X.shape[1]-k):\n",
    "        instant1 = i\n",
    "        instant2 = instant1 + k\n",
    "        sigx_n[i] = estimate_autocovariance(X, instant1, instant2)\n",
    "    return sigx_n"
   ]
  },
  {
   "cell_type": "code",
   "execution_count": 20,
   "metadata": {},
   "outputs": [],
   "source": [
    "def autocovariance_plot(sigx, k, name, ts=0.5, save=True, n_steps=190):\n",
    "    plt.figure(1, figsize=(5,6))\n",
    "    axes = {}\n",
    "    markers = ['^', 'v', 'd']\n",
    "    colors = ['b', 'r', 'y']\n",
    "    \n",
    "    for sig, k, i in zip(sigx, k_i, range(len(sigx))):\n",
    "        time_array = (np.arange(sig.shape[0]) * ts)+ (n_steps-k)*ts\n",
    "        plot_n = int(100*len(sigx)+10+i+1)\n",
    "        axes[f'{i}'] = plt.subplot(plot_n)\n",
    "        axes[f'{i}'].plot(time_array, sig, linestyle=\"--\",marker=markers[i],\n",
    "                          markersize=4,\n",
    "                          color=colors[i],\n",
    "                          label=f'cov{i+1}, k={k}')\n",
    "        axes[f'{i}'].legend()\n",
    "        axes[f'{i}'].set_xlabel('Tempo(s)')\n",
    "        axes[f'{i}'].set_ylabel('Valor')\n",
    "    if save:\n",
    "        fig_name = f\"4_autocov_{name}.eps\"\n",
    "        plt.savefig(fig_name, format=\"eps\", dpi=300, bbox_inches=\"tight\")\n",
    "    else:\n",
    "        plt.show()\n",
    "    plt.close()\n"
   ]
  },
  {
   "cell_type": "code",
   "execution_count": 21,
   "metadata": {},
   "outputs": [
    {
     "name": "stderr",
     "output_type": "stream",
     "text": [
      "The PostScript backend does not support transparency; partially transparent artists will be rendered opaque.\n",
      "The PostScript backend does not support transparency; partially transparent artists will be rendered opaque.\n",
      "The PostScript backend does not support transparency; partially transparent artists will be rendered opaque.\n",
      "The PostScript backend does not support transparency; partially transparent artists will be rendered opaque.\n",
      "The PostScript backend does not support transparency; partially transparent artists will be rendered opaque.\n",
      "The PostScript backend does not support transparency; partially transparent artists will be rendered opaque.\n",
      "The PostScript backend does not support transparency; partially transparent artists will be rendered opaque.\n",
      "The PostScript backend does not support transparency; partially transparent artists will be rendered opaque.\n",
      "The PostScript backend does not support transparency; partially transparent artists will be rendered opaque.\n",
      "The PostScript backend does not support transparency; partially transparent artists will be rendered opaque.\n",
      "The PostScript backend does not support transparency; partially transparent artists will be rendered opaque.\n",
      "The PostScript backend does not support transparency; partially transparent artists will be rendered opaque.\n"
     ]
    }
   ],
   "source": [
    "k_i = [20,35,54]\n",
    "sig_x1= [0,0,0]\n",
    "sig_x2= [0,0,0]\n",
    "for k, i in zip(k_i, range(len(k_i))):\n",
    "    sig_x1[i] = autocovariance_in_n(X1,k)\n",
    "    sig_x2[i] = autocovariance_in_n(X2,k)\n",
    "    \n",
    "autocovariance_plot(sig_x1, k_i, 'X1', ts=0.5, save=True)\n",
    "autocovariance_plot(sig_x1, k_i, 'X2', ts=0.5, save=True)"
   ]
  }
 ],
 "metadata": {
  "kernelspec": {
   "display_name": "Python 3",
   "language": "python",
   "name": "python3"
  },
  "language_info": {
   "codemirror_mode": {
    "name": "ipython",
    "version": 3
   },
   "file_extension": ".py",
   "mimetype": "text/x-python",
   "name": "python",
   "nbconvert_exporter": "python",
   "pygments_lexer": "ipython3",
   "version": "3.7.7"
  }
 },
 "nbformat": 4,
 "nbformat_minor": 4
}
